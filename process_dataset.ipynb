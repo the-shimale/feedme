{
  "nbformat": 4,
  "nbformat_minor": 0,
  "metadata": {
    "colab": {
      "name": "process_dataset.ipynb",
      "version": "0.3.2",
      "provenance": [],
      "collapsed_sections": []
    },
    "kernelspec": {
      "name": "python3",
      "display_name": "Python 3"
    }
  },
  "cells": [
    {
      "metadata": {
        "id": "wdVL5XVpwz8-",
        "colab_type": "code",
        "outputId": "93bb68a1-4b7c-4df3-e425-c458ae3a53c7",
        "colab": {
          "base_uri": "https://localhost:8080/",
          "height": 125
        }
      },
      "cell_type": "code",
      "source": [
        "from google.colab import drive\n",
        "drive.mount('/content/gdrive')"
      ],
      "execution_count": 0,
      "outputs": [
        {
          "output_type": "stream",
          "text": [
            "Go to this URL in a browser: https://accounts.google.com/o/oauth2/auth?client_id=947318989803-6bn6qk8qdgf4n4g3pfee6491hc0brc4i.apps.googleusercontent.com&redirect_uri=urn%3Aietf%3Awg%3Aoauth%3A2.0%3Aoob&scope=email%20https%3A%2F%2Fwww.googleapis.com%2Fauth%2Fdocs.test%20https%3A%2F%2Fwww.googleapis.com%2Fauth%2Fdrive%20https%3A%2F%2Fwww.googleapis.com%2Fauth%2Fdrive.photos.readonly%20https%3A%2F%2Fwww.googleapis.com%2Fauth%2Fpeopleapi.readonly&response_type=code\n",
            "\n",
            "Enter your authorization code:\n",
            "··········\n",
            "Mounted at /content/gdrive\n"
          ],
          "name": "stdout"
        }
      ]
    },
    {
      "metadata": {
        "id": "l5nWjTm_9e1C",
        "colab_type": "code",
        "colab": {}
      },
      "cell_type": "code",
      "source": [
        "import pandas as pd\n",
        "with open('/content/gdrive/My Drive/yelp_academic_dataset_business.json') as business_file:\n",
        "  businesses = pd.read_json(business_file, lines=True)"
      ],
      "execution_count": 0,
      "outputs": []
    },
    {
      "metadata": {
        "id": "Zh7NCn9B_HSV",
        "colab_type": "code",
        "colab": {}
      },
      "cell_type": "code",
      "source": [
        "vegas_businesses = businesses.loc[businesses[\"city\"] == \"Las Vegas\"]\n"
      ],
      "execution_count": 0,
      "outputs": []
    },
    {
      "metadata": {
        "id": "VIvWUcr4P4s9",
        "colab_type": "code",
        "outputId": "19dce615-0609-413d-cb39-f8fc918551b6",
        "colab": {
          "base_uri": "https://localhost:8080/",
          "height": 35
        }
      },
      "cell_type": "code",
      "source": [
        "vegas_restaurants = vegas_businesses.loc[businesses[\"categories\"].str.contains(\"Restaurants\", na=False)]\n",
        "vegas_restaurants = vegas_restaurants.drop_duplicates(subset=\"name\")"
      ],
      "execution_count": 0,
      "outputs": [
        {
          "output_type": "stream",
          "text": [
            "4498\n"
          ],
          "name": "stdout"
        }
      ]
    },
    {
      "metadata": {
        "id": "DeJO32oExeW0",
        "colab_type": "code",
        "colab": {}
      },
      "cell_type": "code",
      "source": [
        "reviews = pd.DataFrame()\n",
        "chunksize = 10 ** 6\n",
        "for chunk in pd.read_json('/content/gdrive/My Drive/yelp_academic_dataset_review.json', lines=True, chunksize=chunksize):\n",
        "  reviews = reviews.append(chunk)\n",
        "  "
      ],
      "execution_count": 0,
      "outputs": []
    },
    {
      "metadata": {
        "id": "Zakf3e9UA7F9",
        "colab_type": "code",
        "colab": {}
      },
      "cell_type": "code",
      "source": [
        "vegas_reviews = reviews.loc[reviews[\"business_id\"].isin(vegas_restaurants[\"business_id\"])]"
      ],
      "execution_count": 0,
      "outputs": []
    },
    {
      "metadata": {
        "id": "lsMe8r0ySSCS",
        "colab_type": "code",
        "outputId": "21d28f40-f7fd-4084-e19c-f35c98c5fefa",
        "colab": {
          "base_uri": "https://localhost:8080/",
          "height": 35
        }
      },
      "cell_type": "code",
      "source": [
        "vr_samples = vegas_reviews.sample(n=500000)"
      ],
      "execution_count": 0,
      "outputs": [
        {
          "output_type": "stream",
          "text": [
            "865909\n"
          ],
          "name": "stdout"
        }
      ]
    },
    {
      "metadata": {
        "id": "FDTsU-GrBg49",
        "colab_type": "code",
        "colab": {}
      },
      "cell_type": "code",
      "source": [
        "brief_reviews = vr_samples[[\"user_id\", \"business_id\", \"stars\", \"date\"]]"
      ],
      "execution_count": 0,
      "outputs": []
    },
    {
      "metadata": {
        "id": "gpCkyzm2MRcj",
        "colab_type": "code",
        "colab": {}
      },
      "cell_type": "code",
      "source": [
        "train = brief_reviews.sample(frac=0.8,random_state=200)\n",
        "test = brief_reviews.drop(train.index)"
      ],
      "execution_count": 0,
      "outputs": []
    },
    {
      "metadata": {
        "id": "dHV2UsDtJ0IF",
        "colab_type": "code",
        "colab": {}
      },
      "cell_type": "code",
      "source": [
        "train.to_csv(\"/content/gdrive/My Drive/training.csv\", sep='\\t', encoding='utf-8', index=False)\n",
        "test.to_csv(\"/content/gdrive/My Drive/test.csv\", sep='\\t', encoding='utf-8', index=False)"
      ],
      "execution_count": 0,
      "outputs": []
    },
    {
      "metadata": {
        "id": "vWP7ivFGMpkG",
        "colab_type": "code",
        "colab": {}
      },
      "cell_type": "code",
      "source": [
        "vegas_businesses_names = vegas_restaurants[[\"business_id\", \"name\"]]\n",
        "vegas_businesses_names.to_csv(\"/content/gdrive/My Drive/business_names.csv\", sep='\\t', encoding='utf-8', index=False)"
      ],
      "execution_count": 0,
      "outputs": []
    },
    {
      "metadata": {
        "id": "GWFnU2xjbHja",
        "colab_type": "code",
        "colab": {}
      },
      "cell_type": "code",
      "source": [
        "reviewsByUser = {}\n",
        "bus_name_dict = vegas_businesses_names.set_index(\"business_id\").to_dict()\n",
        "bus_name_dict = bus_name_dict[\"name\"]\n",
        "for index, row in brief_reviews.iterrows():\n",
        "  reviewsByUser.setdefault(row[\"user_id\"], []).append([bus_name_dict[row[\"business_id\"]], row[\"stars\"]])"
      ],
      "execution_count": 0,
      "outputs": []
    },
    {
      "metadata": {
        "id": "-M2mVVTpZ8-h",
        "colab_type": "code",
        "colab": {}
      },
      "cell_type": "code",
      "source": [
        "import json\n",
        "with open('/content/gdrive/My Drive/reviewsByUser.json', 'w') as fp:\n",
        "    json.dump(reviewsByUser, fp)"
      ],
      "execution_count": 0,
      "outputs": []
    }
  ]
}